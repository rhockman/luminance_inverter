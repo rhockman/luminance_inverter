{
 "cells": [
  {
   "cell_type": "markdown",
   "metadata": {},
   "source": [
    "# Luminance Inverter\n",
    "\n",
    "Bright screens when you're trying to sleep are no fun.  I really like the program [f.lux](https://justgetflux.com/) for reducing the amount of blue light that comes from the display, but reading a white-background webpage at night can still be unpleasant.\n",
    "\n",
    "You could always do a straight inversion, but then the colors aren't right.  I got to thinking about colorspaces and wondered what things would look like if you kept the same hue and saturation, but inverted the brightness or luminance.  You'd maintain a similar theme and contrast, but it would tone things down a bit if they were too bright.  (And, conversely, if they were too dark, make them real bright)\n",
    "\n",
    "This little workbook is me figuring out what that actually looks like.\n",
    "\n",
    "Put any images you want converted in the `images` directory.  This will find them, invert the luminance, and drop the result in the `inverted` directory.\n",
    "\n",
    "**Warning** This thing is slow.  Several seconds per image.\n",
    "\n",
    "Images are expected to be color images in sRGB.\n",
    "\n",
    "Developed on Python 3 with Anaconda, but so long as you have skimage and juptyer you should be ok.  LMK if I'm wrong.\n"
   ]
  },
  {
   "cell_type": "code",
   "execution_count": 163,
   "metadata": {},
   "outputs": [],
   "source": [
    "   # Savagely copy-pasted from https://github.com/alexanderkuk/log-progress \n",
    "   def log_progress(sequence, every=None, size=None, name='Items'):\n",
    "    from ipywidgets import IntProgress, HTML, VBox\n",
    "    from IPython.display import display\n",
    "\n",
    "    is_iterator = False\n",
    "    if size is None:\n",
    "        try:\n",
    "            size = len(sequence)\n",
    "        except TypeError:\n",
    "            is_iterator = True\n",
    "    if size is not None:\n",
    "        if every is None:\n",
    "            if size <= 200:\n",
    "                every = 1\n",
    "            else:\n",
    "                every = int(size / 200)     # every 0.5%\n",
    "    else:\n",
    "        assert every is not None, 'sequence is iterator, set every'\n",
    "\n",
    "    if is_iterator:\n",
    "        progress = IntProgress(min=0, max=1, value=1)\n",
    "        progress.bar_style = 'info'\n",
    "    else:\n",
    "        progress = IntProgress(min=0, max=size, value=0)\n",
    "    label = HTML()\n",
    "    box = VBox(children=[label, progress])\n",
    "    display(box)\n",
    "\n",
    "    index = 0\n",
    "    try:\n",
    "        for index, record in enumerate(sequence, 1):\n",
    "            if index == 1 or index % every == 0:\n",
    "                if is_iterator:\n",
    "                    label.value = '{name}: {index} / ?'.format(\n",
    "                        name=name,\n",
    "                        index=index\n",
    "                    )\n",
    "                else:\n",
    "                    progress.value = index\n",
    "                    label.value = u'{name}: {index} / {size}'.format(\n",
    "                        name=name,\n",
    "                        index=index,\n",
    "                        size=size\n",
    "                    )\n",
    "            yield record\n",
    "    except:\n",
    "        progress.bar_style = 'danger'\n",
    "        raise\n",
    "    else:\n",
    "        progress.bar_style = 'success'\n",
    "        progress.value = index\n",
    "        label.value = \"{name}: {index}\".format(\n",
    "            name=name,\n",
    "            index=str(index or '?')\n",
    "        ) "
   ]
  },
  {
   "cell_type": "code",
   "execution_count": 173,
   "metadata": {},
   "outputs": [
    {
     "data": {
      "application/vnd.jupyter.widget-view+json": {
       "model_id": "7091d9ffc72b4264acce0c417d48b4bf",
       "version_major": 2,
       "version_minor": 0
      },
      "text/plain": [
       "VBox(children=(HTML(value=''), IntProgress(value=0, max=4)))"
      ]
     },
     "metadata": {},
     "output_type": "display_data"
    },
    {
     "data": {
      "application/vnd.jupyter.widget-view+json": {
       "model_id": "0602a08f75dd48519f8e6211ca684138",
       "version_major": 2,
       "version_minor": 0
      },
      "text/plain": [
       "VBox(children=(HTML(value=''), IntProgress(value=0, max=480)))"
      ]
     },
     "metadata": {},
     "output_type": "display_data"
    },
    {
     "data": {
      "application/vnd.jupyter.widget-view+json": {
       "model_id": "e1243da6daf04f61b46ce208f3909260",
       "version_major": 2,
       "version_minor": 0
      },
      "text/plain": [
       "VBox(children=(HTML(value=''), IntProgress(value=0, max=1136)))"
      ]
     },
     "metadata": {},
     "output_type": "display_data"
    },
    {
     "data": {
      "application/vnd.jupyter.widget-view+json": {
       "model_id": "6b2b81a5137543058ca9650b6a5633c0",
       "version_major": 2,
       "version_minor": 0
      },
      "text/plain": [
       "VBox(children=(HTML(value=''), IntProgress(value=0, max=766)))"
      ]
     },
     "metadata": {},
     "output_type": "display_data"
    },
    {
     "data": {
      "application/vnd.jupyter.widget-view+json": {
       "model_id": "1b3e52fd4b6442fd85539dc2aedfa525",
       "version_major": 2,
       "version_minor": 0
      },
      "text/plain": [
       "VBox(children=(HTML(value=''), IntProgress(value=0, max=1071)))"
      ]
     },
     "metadata": {},
     "output_type": "display_data"
    }
   ],
   "source": [
    "from skimage import io\n",
    "import colorsys\n",
    "import glob\n",
    "import os\n",
    "\n",
    "if not os.path.exists('inverted'):\n",
    "    os.makedirs('inverted')\n",
    "\n",
    "filenames = glob.glob('images/*')\n",
    "\n",
    "for filename in log_progress(filenames, name=\"Input Files\"):\n",
    "    img = io.imread(filename)\n",
    "    \n",
    "    total_lines = float(len(img))\n",
    "    for line in log_progress(img, name=\"{} rows processed\".format(filename)):\n",
    "        for pixel in line:\n",
    "            r = pixel[0]\n",
    "            g = pixel[1]\n",
    "            b = pixel[2]\n",
    "\n",
    "            h, l, s = colorsys.rgb_to_hls(r/255., g/255., b/255.)\n",
    "\n",
    "            l = (1. - l) * 0.95\n",
    "\n",
    "            r, g, b = colorsys.hls_to_rgb(h, l, s)\n",
    "            pixel[0] = int(r * 255)\n",
    "            pixel[1] = int(g * 255)\n",
    "            pixel[2] = int(b * 255)\n",
    "\n",
    "    io.imsave(os.path.join(\"inverted\", os.path.split(filename)[-1]), img)\n",
    "\n",
    "\n"
   ]
  },
  {
   "cell_type": "code",
   "execution_count": null,
   "metadata": {},
   "outputs": [],
   "source": []
  }
 ],
 "metadata": {
  "kernelspec": {
   "display_name": "Python 3",
   "language": "python",
   "name": "python3"
  },
  "language_info": {
   "codemirror_mode": {
    "name": "ipython",
    "version": 3
   },
   "file_extension": ".py",
   "mimetype": "text/x-python",
   "name": "python",
   "nbconvert_exporter": "python",
   "pygments_lexer": "ipython3",
   "version": "3.6.5"
  }
 },
 "nbformat": 4,
 "nbformat_minor": 2
}
